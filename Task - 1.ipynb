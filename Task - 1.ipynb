{
 "cells": [
  {
   "cell_type": "markdown",
   "id": "fc3473d1-7618-4736-8dbc-87b471950fc1",
   "metadata": {},
   "source": [
    "✅ Q1: Function to Flatten a List and Return Product of All Numbers\n",
    "You provided this complex nested list:\n",
    "\n",
    "python\n",
    "Copy code\n",
    "list1 = [\n",
    "    1, 2, 3, 4,\n",
    "    [44, 55, 66, True],\n",
    "    False,\n",
    "    (34, 56, 78, 89, 34),\n",
    "    {1, 2, 3, 3, 2, 1},\n",
    "    {1: 34, \"key2\": [55, 67, 78, 89], 4: (45, 22, 61, 34)},\n",
    "    [56, 'data science'],\n",
    "    'Machine Learning'\n",
    "]\n",
    "You want to:\n",
    "\n",
    "Flatten it completely.\n",
    "\n",
    "Extract only numeric values (including numeric keys and values in dictionaries).\n",
    "\n",
    "Compute the product of all these numbers."
   ]
  },
  {
   "cell_type": "code",
   "execution_count": 1,
   "id": "43ca1f0f-6ba0-450d-8f3c-5c2ab826a4f5",
   "metadata": {},
   "outputs": [
    {
     "name": "stdout",
     "output_type": "stream",
     "text": [
      "Product of all numbers: 4134711838987085478833841242112000\n"
     ]
    }
   ],
   "source": [
    "#Here's the working function:\n",
    "def extract_numbers(data):\n",
    "    numbers = []\n",
    "\n",
    "    def flatten(item):\n",
    "        if isinstance(item, (int, float, bool)) and not isinstance(item, bool):\n",
    "            numbers.append(item)\n",
    "        elif isinstance(item, dict):\n",
    "            for key, value in item.items():\n",
    "                flatten(key)\n",
    "                flatten(value)\n",
    "        elif isinstance(item, (list, tuple, set)):\n",
    "            for i in item:\n",
    "                flatten(i)\n",
    "        # Strings and other types are ignored\n",
    "\n",
    "    flatten(data)\n",
    "\n",
    "    # Compute product\n",
    "    product = 1\n",
    "    for num in numbers:\n",
    "        product *= num\n",
    "\n",
    "    return product\n",
    "\n",
    "# Test\n",
    "list1 = [\n",
    "    1, 2, 3, 4,\n",
    "    [44, 55, 66, True],\n",
    "    False,\n",
    "    (34, 56, 78, 89, 34),\n",
    "    {1, 2, 3, 3, 2, 1},\n",
    "    {1: 34, \"key2\": [55, 67, 78, 89], 4: (45, 22, 61, 34)},\n",
    "    [56, 'data science'],\n",
    "    'Machine Learning'\n",
    "]\n",
    "\n",
    "result = extract_numbers(list1)\n",
    "print(\"Product of all numbers:\", result)\n"
   ]
  },
  {
   "cell_type": "markdown",
   "id": "6a4843e9-bd38-4d2e-9f6f-9c1395d6cbd2",
   "metadata": {},
   "source": [
    "✅ Q2: Message Encryption (Reverse Alphabet + Space = $)\n",
    "🔒 Rules:\n",
    "Encrypt letters: a -> z, b -> y, ..., z -> a\n",
    "\n",
    "Spaces → $\n",
    "\n",
    "Punctuation and capital letters → remain unchanged (except letters should be transformed case-sensitively)"
   ]
  },
  {
   "cell_type": "code",
   "execution_count": 2,
   "id": "b95fee14-ce44-4993-a170-9331f0db9fcc",
   "metadata": {},
   "outputs": [
    {
     "name": "stdout",
     "output_type": "stream",
     "text": [
      "Encrypted Message: R$dzmg$gl$yvxlnv$z$Wzgz$Hxrvmgrhg.\n"
     ]
    }
   ],
   "source": [
    "#Here’s the encryption function:\n",
    "def encrypt_message(message):\n",
    "    encrypted = ''\n",
    "    for char in message:\n",
    "        if char.islower():\n",
    "            encrypted += chr(122 - (ord(char) - 97))  # Reverse a-z\n",
    "        elif char.isupper():\n",
    "            encrypted += chr(90 - (ord(char) - 65))   # Reverse A-Z\n",
    "        elif char == ' ':\n",
    "            encrypted += '$'\n",
    "        else:\n",
    "            encrypted += char  # Keep punctuation\n",
    "    return encrypted\n",
    "\n",
    "# Test\n",
    "input_sentence = \"I want to become a Data Scientist.\"\n",
    "encrypted_sentence = encrypt_message(input_sentence)\n",
    "print(\"Encrypted Message:\", encrypted_sentence)\n"
   ]
  },
  {
   "cell_type": "code",
   "execution_count": null,
   "id": "20d2675d-1416-4b67-873e-8014067fd0cb",
   "metadata": {},
   "outputs": [],
   "source": []
  }
 ],
 "metadata": {
  "kernelspec": {
   "display_name": "Python [conda env:base] *",
   "language": "python",
   "name": "conda-base-py"
  },
  "language_info": {
   "codemirror_mode": {
    "name": "ipython",
    "version": 3
   },
   "file_extension": ".py",
   "mimetype": "text/x-python",
   "name": "python",
   "nbconvert_exporter": "python",
   "pygments_lexer": "ipython3",
   "version": "3.12.7"
  }
 },
 "nbformat": 4,
 "nbformat_minor": 5
}
